{
 "cells": [
  {
   "cell_type": "code",
   "execution_count": 7,
   "id": "7f92794e-d2f0-46d6-b573-d1e19a2ff68f",
   "metadata": {},
   "outputs": [
    {
     "name": "stderr",
     "output_type": "stream",
     "text": [
      "/home2/souvikg544/miniconda3/envs/lrw/lib/python3.10/site-packages/tqdm/auto.py:21: TqdmWarning: IProgress not found. Please update jupyter and ipywidgets. See https://ipywidgets.readthedocs.io/en/stable/user_install.html\n",
      "  from .autonotebook import tqdm as notebook_tqdm\n"
     ]
    }
   ],
   "source": [
    "import numpy as np\n",
    "import scenedetect\n",
    "from scenedetect.video_manager import VideoManager\n",
    "from scenedetect.scene_manager import SceneManager\n",
    "from scenedetect.frame_timecode import FrameTimecode\n",
    "from scenedetect.stats_manager import StatsManager\n",
    "from scenedetect.detectors import ContentDetector"
   ]
  },
  {
   "cell_type": "code",
   "execution_count": 3,
   "id": "b613d96a-01cb-4b96-938e-fb367a3f01b3",
   "metadata": {},
   "outputs": [],
   "source": [
    "a = np.load('/ssd_scratch/cvit/souvik/preprocessed_lrs2_pretrain/5982136536015934617/00002/ref.npz')"
   ]
  },
  {
   "cell_type": "code",
   "execution_count": 4,
   "id": "704feddb-cce5-44d5-add7-8786eb49d991",
   "metadata": {},
   "outputs": [
    {
     "data": {
      "text/plain": [
       "NpzFile '/ssd_scratch/cvit/souvik/preprocessed_lrs2_pretrain/5982136536015934617/00002/ref.npz' with keys: ref"
      ]
     },
     "execution_count": 4,
     "metadata": {},
     "output_type": "execute_result"
    }
   ],
   "source": [
    "a"
   ]
  },
  {
   "cell_type": "code",
   "execution_count": 6,
   "id": "97c1559a-2593-4720-b1f2-6879eecb27e9",
   "metadata": {},
   "outputs": [
    {
     "data": {
      "text/plain": [
       "(1, 256)"
      ]
     },
     "execution_count": 6,
     "metadata": {},
     "output_type": "execute_result"
    }
   ],
   "source": [
    "a['ref'].shape"
   ]
  },
  {
   "cell_type": "code",
   "execution_count": null,
   "id": "53c048d5-781c-4979-b989-6f426738df6b",
   "metadata": {},
   "outputs": [],
   "source": []
  }
 ],
 "metadata": {
  "kernelspec": {
   "display_name": "lrw",
   "language": "python",
   "name": "lrw"
  },
  "language_info": {
   "codemirror_mode": {
    "name": "ipython",
    "version": 3
   },
   "file_extension": ".py",
   "mimetype": "text/x-python",
   "name": "python",
   "nbconvert_exporter": "python",
   "pygments_lexer": "ipython3",
   "version": "3.10.13"
  }
 },
 "nbformat": 4,
 "nbformat_minor": 5
}
