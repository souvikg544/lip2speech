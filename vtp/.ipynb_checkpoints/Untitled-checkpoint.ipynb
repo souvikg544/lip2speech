{
 "cells": [
  {
   "cell_type": "code",
   "execution_count": null,
   "id": "783af739-cf25-48a7-a383-e852f77f3f67",
   "metadata": {},
   "outputs": [],
   "source": []
  },
  {
   "cell_type": "code",
   "execution_count": null,
   "id": "3905cb5d-88e7-4ca0-b192-3c0b0dbbaee2",
   "metadata": {},
   "outputs": [],
   "source": [
    "with open(r\"/home2/souvikg544/souvik/lip2speech/vtp/data/pywork/something/faces.pkl\", \"rb\") as input_file:\n",
    "    e = cPickle.load(input_file)"
   ]
  }
 ],
 "metadata": {
  "kernelspec": {
   "display_name": "lrw",
   "language": "python",
   "name": "lrw"
  },
  "language_info": {
   "codemirror_mode": {
    "name": "ipython",
    "version": 3
   },
   "file_extension": ".py",
   "mimetype": "text/x-python",
   "name": "python",
   "nbconvert_exporter": "python",
   "pygments_lexer": "ipython3",
   "version": "3.10.13"
  }
 },
 "nbformat": 4,
 "nbformat_minor": 5
}
